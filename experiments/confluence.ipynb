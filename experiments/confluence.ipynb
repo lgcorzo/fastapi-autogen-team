{
 "cells": [
  {
   "cell_type": "markdown",
   "metadata": {},
   "source": [
    "# Confluence\n",
    "\n",
    "[Confluence](https://www.atlassian.com/software/confluence) is a wiki collaboration platform designed to save and organize all project-related materials. As a knowledge base, Confluence primarily serves content management activities.\n",
    "\n",
    "This loader allows you to fetch and process Confluence pages into `Document` objects.\n",
    "\n",
    "---\n",
    "\n",
    "## Authentication Methods\n",
    "\n",
    "The following authentication methods are supported:\n",
    "\n",
    "- `username/api_key`\n",
    "- `OAuth2 login`\n",
    "- `cookies`\n",
    "- On-premises installations: `token` authentication\n",
    "\n",
    "---\n",
    "\n",
    "## Page Selection\n",
    "\n",
    "You can specify which pages to load using:\n",
    "\n",
    "- **page_ids** (*list*):  \n",
    "  A list of `page_id` values to load the corresponding pages.\n",
    "\n",
    "- **space_key** (*string*):  \n",
    "  A string of `space_key` value to load all pages within the specified confluence space.\n",
    "\n",
    "If both `page_ids` and `space_key` are provided, the loader will return the union of pages from both lists.\n",
    "\n",
    "*Hint:* Both `space_key` and `page_id` can be found in the URL of a Confluence page:  \n",
    "`https://yoursite.atlassian.com/wiki/spaces/{space_key}/pages/{page_id}`\n",
    "\n",
    "---\n",
    "\n",
    "## Attachments\n",
    "\n",
    "You may include attachments in the loaded `Document` objects by setting the boolean parameter **include_attachments** to `True` (default: `False`). When enabled, all attachments are downloaded and their text content is extracted and added to the Document.\n",
    "\n",
    "**Currently supported attachment types:**\n",
    "\n",
    "- PDF (`.pdf`)\n",
    "- PNG (`.png`)\n",
    "- JPEG/JPG (`.jpeg`, `.jpg`)\n",
    "- SVG (`.svg`)\n",
    "- Word (`.doc`, `.docx`)\n",
    "- Excel (`.xls`, `.xlsx`)\n",
    "\n",
    "---"
   ]
  },
  {
   "cell_type": "markdown",
   "metadata": {},
   "source": [
    "Before using ConfluenceLoader make sure you have the latest version of the atlassian-python-api package installed:"
   ]
  },
  {
   "cell_type": "code",
   "execution_count": null,
   "metadata": {
    "tags": []
   },
   "outputs": [],
   "source": [
    "%pip install --upgrade --quiet  atlassian-python-api langchain_community\n",
    "%pip install pytesseract Pillow reportlab svglib"
   ]
  },
  {
   "cell_type": "markdown",
   "metadata": {},
   "source": [
    "```bash\n",
    "sudo apt update\n",
    "sudo apt install libcairo2-dev\n",
    "```"
   ]
  },
  {
   "cell_type": "code",
   "execution_count": null,
   "metadata": {},
   "outputs": [],
   "source": [
    "%pip install rlPyCairo"
   ]
  },
  {
   "cell_type": "markdown",
   "metadata": {},
   "source": [
    "## Examples"
   ]
  },
  {
   "cell_type": "markdown",
   "metadata": {},
   "source": [
    "### Username and Password or Username and API Token (Atlassian Cloud only)\n",
    "\n",
    "This example authenticates using either a username and password or, if you're connecting to an Atlassian Cloud hosted version of Confluence, a username and an API Token.\n",
    "You can generate an API token at: https://id.atlassian.com/manage-profile/security/api-tokens.\n",
    "\n",
    "The `limit` parameter specifies how many documents will be retrieved in a single call, not how many documents will be retrieved in total.\n",
    "By default the code will return up to 1000 documents in 50 documents batches. To control the total number of documents use the `max_pages` parameter. \n",
    "Plese note the maximum value for the `limit` parameter in the atlassian-python-api package is currently 100.  "
   ]
  },
  {
   "cell_type": "code",
   "execution_count": null,
   "metadata": {},
   "outputs": [],
   "source": [
    "url=\"https://xxxxx.atlassian.net/wiki\"\n",
    "username=\"xxxxx@xxxxx.com\"\n",
    "api_key=\"xxxxxx\"\n"
   ]
  },
  {
   "cell_type": "code",
   "execution_count": null,
   "metadata": {},
   "outputs": [],
   "source": [
    "from langchain_community.document_loaders import ConfluenceLoader\n",
    "\n",
    "loader = ConfluenceLoader(\n",
    "    url=url,\n",
    "    username=username,\n",
    "    api_key=api_key,\n",
    "    space_key=\"DDS\",\n",
    "    include_attachments=True,\n",
    "    limit=50,\n",
    ")\n",
    "documents = loader.load()"
   ]
  },
  {
   "cell_type": "code",
   "execution_count": null,
   "metadata": {},
   "outputs": [],
   "source": [
    "from langchain_community.document_loaders import ConfluenceLoader\n",
    "\n",
    "loader = ConfluenceLoader(\n",
    "    url=url,\n",
    "    username=username,\n",
    "    api_key=api_key,\n",
    "    include_attachments=True,\n",
    "    limit=50,\n",
    "    cql = \"\"\"\n",
    "        space = \"DDS\" AND \n",
    "        type = \"page\" AND \n",
    "        (\n",
    "            text ~ \"Métricas de éxito\" OR\n",
    "            text ~ \"milestone\" OR\n",
    "            text ~ \"timeline\" OR\n",
    "            text ~ \"schedule\" OR\n",
    "            text ~ \"deliverable\" OR\n",
    "            text ~ \"scope\" OR\n",
    "            text ~ \"risk\" OR\n",
    "            text ~ \"stakeholder\"\n",
    "        )\n",
    "    \"\"\"\n",
    ")\n",
    "documents = loader.load()\n",
    "\n"
   ]
  },
  {
   "cell_type": "code",
   "execution_count": null,
   "metadata": {},
   "outputs": [],
   "source": [
    "documents"
   ]
  },
  {
   "cell_type": "code",
   "execution_count": null,
   "metadata": {},
   "outputs": [],
   "source": [
    "from atlassian import Jira\n",
    "\n",
    "url=\"https://xxxxx.atlassian.net\"\n",
    "project=\"xxxxx\"\n",
    "jira = Jira(url=url, username=username, password=api_key)"
   ]
  },
  {
   "cell_type": "code",
   "execution_count": null,
   "metadata": {},
   "outputs": [],
   "source": [
    "\n",
    "def get_all_issues(project, batch_size=100):\n",
    "    start = 0\n",
    "    issues = []\n",
    "    while True:\n",
    "        batch = jira.jql(\n",
    "            f'project = \"{project}\"',\n",
    "            start=start,\n",
    "            limit=batch_size,\n",
    "            fields=[\"summary\", \"description\", \"status\"]\n",
    "        )[\"issues\"]\n",
    "        if not batch:\n",
    "            break\n",
    "        issues.extend(batch)\n",
    "        start += batch_size\n",
    "    return issues\n",
    "\n",
    "\n",
    "all_issues = get_all_issues(project)\n",
    "print(f\"Total issues fetched: {len(all_issues)}\")\n"
   ]
  },
  {
   "cell_type": "code",
   "execution_count": null,
   "metadata": {},
   "outputs": [],
   "source": [
    "all_issues"
   ]
  }
 ],
 "metadata": {
  "kernelspec": {
   "display_name": "fastapi_autogen_env",
   "language": "python",
   "name": "python3"
  },
  "language_info": {
   "codemirror_mode": {
    "name": "ipython",
    "version": 3
   },
   "file_extension": ".py",
   "mimetype": "text/x-python",
   "name": "python",
   "nbconvert_exporter": "python",
   "pygments_lexer": "ipython3",
   "version": "3.11.12"
  }
 },
 "nbformat": 4,
 "nbformat_minor": 4
}
