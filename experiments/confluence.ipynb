{
 "cells": [
  {
   "cell_type": "markdown",
   "metadata": {},
   "source": [
    "# Confluence\n",
    "\n",
    "[Confluence](https://www.atlassian.com/software/confluence) is a wiki collaboration platform designed to save and organize all project-related materials. As a knowledge base, Confluence primarily serves content management activities.\n",
    "\n",
    "This loader allows you to fetch and process Confluence pages into `Document` objects.\n",
    "\n",
    "---\n",
    "\n",
    "## Authentication Methods\n",
    "\n",
    "The following authentication methods are supported:\n",
    "\n",
    "- `username/api_key`\n",
    "- `OAuth2 login`\n",
    "- `cookies`\n",
    "- On-premises installations: `token` authentication\n",
    "\n",
    "---\n",
    "\n",
    "## Page Selection\n",
    "\n",
    "You can specify which pages to load using:\n",
    "\n",
    "- **page_ids** (*list*):  \n",
    "  A list of `page_id` values to load the corresponding pages.\n",
    "\n",
    "- **space_key** (*string*):  \n",
    "  A string of `space_key` value to load all pages within the specified confluence space.\n",
    "\n",
    "If both `page_ids` and `space_key` are provided, the loader will return the union of pages from both lists.\n",
    "\n",
    "*Hint:* Both `space_key` and `page_id` can be found in the URL of a Confluence page:  \n",
    "`https://yoursite.atlassian.com/wiki/spaces/{space_key}/pages/{page_id}`\n",
    "\n",
    "---\n",
    "\n",
    "## Attachments\n",
    "\n",
    "You may include attachments in the loaded `Document` objects by setting the boolean parameter **include_attachments** to `True` (default: `False`). When enabled, all attachments are downloaded and their text content is extracted and added to the Document.\n",
    "\n",
    "**Currently supported attachment types:**\n",
    "\n",
    "- PDF (`.pdf`)\n",
    "- PNG (`.png`)\n",
    "- JPEG/JPG (`.jpeg`, `.jpg`)\n",
    "- SVG (`.svg`)\n",
    "- Word (`.doc`, `.docx`)\n",
    "- Excel (`.xls`, `.xlsx`)\n",
    "\n",
    "---"
   ]
  },
  {
   "cell_type": "markdown",
   "metadata": {},
   "source": [
    "Before using ConfluenceLoader make sure you have the latest version of the atlassian-python-api package installed:"
   ]
  },
  {
   "cell_type": "code",
   "execution_count": 2,
   "metadata": {
    "tags": []
   },
   "outputs": [
    {
     "name": "stdout",
     "output_type": "stream",
     "text": [
      "Note: you may need to restart the kernel to use updated packages.\n",
      "Requirement already satisfied: pytesseract in /home/lgcorzo/miniconda3/envs/fastapi_autogen_env/lib/python3.11/site-packages (0.3.13)\n",
      "Requirement already satisfied: Pillow in /home/lgcorzo/miniconda3/envs/fastapi_autogen_env/lib/python3.11/site-packages (11.2.1)\n",
      "Requirement already satisfied: reportlab in /home/lgcorzo/miniconda3/envs/fastapi_autogen_env/lib/python3.11/site-packages (4.4.2)\n",
      "Requirement already satisfied: svglib in /home/lgcorzo/miniconda3/envs/fastapi_autogen_env/lib/python3.11/site-packages (1.5.1)\n",
      "Requirement already satisfied: packaging>=21.3 in /home/lgcorzo/miniconda3/envs/fastapi_autogen_env/lib/python3.11/site-packages (from pytesseract) (24.2)\n",
      "Requirement already satisfied: charset-normalizer in /home/lgcorzo/miniconda3/envs/fastapi_autogen_env/lib/python3.11/site-packages (from reportlab) (3.4.2)\n",
      "Requirement already satisfied: lxml in /home/lgcorzo/miniconda3/envs/fastapi_autogen_env/lib/python3.11/site-packages (from svglib) (5.4.0)\n",
      "Requirement already satisfied: tinycss2>=0.6.0 in /home/lgcorzo/miniconda3/envs/fastapi_autogen_env/lib/python3.11/site-packages (from svglib) (1.4.0)\n",
      "Requirement already satisfied: cssselect2>=0.2.0 in /home/lgcorzo/miniconda3/envs/fastapi_autogen_env/lib/python3.11/site-packages (from svglib) (0.8.0)\n",
      "Requirement already satisfied: webencodings in /home/lgcorzo/miniconda3/envs/fastapi_autogen_env/lib/python3.11/site-packages (from cssselect2>=0.2.0->svglib) (0.5.1)\n",
      "Note: you may need to restart the kernel to use updated packages.\n"
     ]
    }
   ],
   "source": [
    "%pip install --upgrade --quiet  atlassian-python-api langchain_community\n",
    "%pip install pytesseract Pillow reportlab svglib"
   ]
  },
  {
   "cell_type": "markdown",
   "metadata": {},
   "source": [
    "```bash\n",
    "sudo apt update\n",
    "sudo apt install libcairo2-dev\n",
    "```"
   ]
  },
  {
   "cell_type": "code",
   "execution_count": null,
   "metadata": {},
   "outputs": [
    {
     "name": "stdout",
     "output_type": "stream",
     "text": [
      "Collecting rlPyCairo\n",
      "  Using cached rlPyCairo-0.3.0-py3-none-any.whl.metadata (4.8 kB)\n",
      "Collecting pycairo>=1.20.0 (from rlPyCairo)\n",
      "  Using cached pycairo-1.28.0.tar.gz (662 kB)\n",
      "  Installing build dependencies ... \u001b[?25ldone\n",
      "\u001b[?25h  Getting requirements to build wheel ... \u001b[?25ldone\n",
      "\u001b[?25h  Installing backend dependencies ... \u001b[?25ldone\n",
      "\u001b[?25h  Preparing metadata (pyproject.toml) ... \u001b[?25ldone\n",
      "\u001b[?25hCollecting freetype-py>=2.3 (from rlPyCairo)\n",
      "  Downloading freetype_py-2.5.1-py3-none-manylinux_2_5_x86_64.manylinux1_x86_64.manylinux_2_12_x86_64.manylinux2010_x86_64.whl.metadata (6.3 kB)\n",
      "Downloading rlPyCairo-0.3.0-py3-none-any.whl (7.5 kB)\n",
      "Downloading freetype_py-2.5.1-py3-none-manylinux_2_5_x86_64.manylinux1_x86_64.manylinux_2_12_x86_64.manylinux2010_x86_64.whl (1.0 MB)\n",
      "\u001b[2K   \u001b[90m━━━━━━━━━━━━━━━━━━━━━━━━━━━━━━━━━━━━━━━━\u001b[0m \u001b[32m1.0/1.0 MB\u001b[0m \u001b[31m20.6 MB/s\u001b[0m eta \u001b[36m0:00:00\u001b[0m\n",
      "\u001b[?25hBuilding wheels for collected packages: pycairo\n",
      "  Building wheel for pycairo (pyproject.toml) ... \u001b[?25ldone\n",
      "\u001b[?25h  Created wheel for pycairo: filename=pycairo-1.28.0-cp311-cp311-linux_x86_64.whl size=130366 sha256=7d98833dd25db9f38486a12a3d754c5ac8eee512ccae1003379571dd698b7af1\n",
      "  Stored in directory: /home/lgcorzo/.cache/pip/wheels/3d/58/c8/aa81f7c6ebf558b5c0c283df82a957921fe95322ed82d01a14\n",
      "Successfully built pycairo\n",
      "Installing collected packages: pycairo, freetype-py, rlPyCairo\n",
      "\u001b[2K   \u001b[90m━━━━━━━━━━━━━━━━━━━━━━━━━━━━━━━━━━━━━━━━\u001b[0m \u001b[32m3/3\u001b[0m [rlPyCairo]\n",
      "\u001b[1A\u001b[2KSuccessfully installed freetype-py-2.5.1 pycairo-1.28.0 rlPyCairo-0.3.0\n",
      "Note: you may need to restart the kernel to use updated packages.\n"
     ]
    }
   ],
   "source": [
    "%pip install rlPyCairo"
   ]
  },
  {
   "cell_type": "markdown",
   "metadata": {},
   "source": [
    "## Examples"
   ]
  },
  {
   "cell_type": "markdown",
   "metadata": {},
   "source": [
    "### Username and Password or Username and API Token (Atlassian Cloud only)\n",
    "\n",
    "This example authenticates using either a username and password or, if you're connecting to an Atlassian Cloud hosted version of Confluence, a username and an API Token.\n",
    "You can generate an API token at: https://id.atlassian.com/manage-profile/security/api-tokens.\n",
    "\n",
    "The `limit` parameter specifies how many documents will be retrieved in a single call, not how many documents will be retrieved in total.\n",
    "By default the code will return up to 1000 documents in 50 documents batches. To control the total number of documents use the `max_pages` parameter. \n",
    "Plese note the maximum value for the `limit` parameter in the atlassian-python-api package is currently 100.  "
   ]
  },
  {
   "cell_type": "code",
   "execution_count": null,
   "metadata": {},
   "outputs": [
    {
     "name": "stderr",
     "output_type": "stream",
     "text": [
      "Can't handle color: url(#paint0_linear_50_639)\n",
      "Can't handle color: url(#paint0_linear_239_1747)\n",
      "Can't handle color: url(#paint0_linear_203_2191)\n"
     ]
    }
   ],
   "source": [
    "from langchain_community.document_loaders import ConfluenceLoader\n",
    "\n",
    "loader = ConfluenceLoader(\n",
    "    url=\"https://xxxxx.atlassian.net/wiki\",\n",
    "    username=\"xxxxx@xxxxxx.com\",\n",
    "    api_key=\"xxxxxxxxxx\",\n",
    "    space_key=\"DDS\",\n",
    "    include_attachments=True,\n",
    "    limit=50,\n",
    ")\n",
    "documents = loader.load()"
   ]
  },
  {
   "cell_type": "code",
   "execution_count": null,
   "metadata": {},
   "outputs": [],
   "source": [
    "from langchain_community.document_loaders import ConfluenceLoader\n",
    "\n",
    "loader = ConfluenceLoader(\n",
    "    url=\"https://xxxx.atlassian.net/wiki\",\n",
    "    username=\"xxx@xxxx.com\",\n",
    "    api_key=\"xxxxxx\",\n",
    "    include_attachments=True,\n",
    "    limit=50,\n",
    "    cql = \"\"\"\n",
    "        space = \"DDS\" AND \n",
    "        type = \"page\" AND \n",
    "        (\n",
    "            text ~ \"Métricas de éxito\" OR\n",
    "            text ~ \"milestone\" OR\n",
    "            text ~ \"timeline\" OR\n",
    "            text ~ \"schedule\" OR\n",
    "            text ~ \"deliverable\" OR\n",
    "            text ~ \"scope\" OR\n",
    "            text ~ \"risk\" OR\n",
    "            text ~ \"stakeholder\"\n",
    "        )\n",
    "    \"\"\"\n",
    ")\n",
    "documents = loader.load()\n",
    "\n"
   ]
  },
  {
   "cell_type": "code",
   "execution_count": 10,
   "metadata": {},
   "outputs": [
    {
     "data": {
      "text/plain": [
       "[Document(metadata={'title': 'Plantilla - Requisitos del producto', 'id': '98463', 'source': 'https://lgcorzo.atlassian.net/wiki/spaces/DDS/pages/98463/Plantilla+-+Requisitos+del+producto', 'when': '2025-07-09T17:13:25.568Z'}, page_content='Versión objetivo Escribe // para añadir una fecha de publicación prevista Epic Escribe /Jira para añadir epics e incidencias de Jira Estado del documento BORRADOR Propietario del documento @menciona al propietario Diseñador @diseñador Líder tecnológico @responsable Redactores técnicos @redactores Control de calidad Objetivo Proporciona el contexto de este proyecto y explica cómo encaja en las metas estratégicas de tu organización. Métricas de éxito Enumera las metas del proyecto y las métricas que usarás para evaluar el éxito. Meta Métrica Metrica importante lo que diga luis Supuestos Haz una lista de los supuestos que tengas sobre los usuarios, las restricciones técnicas o las metas empresariales. Hitos Escribe /planner para crear una hoja de ruta visual y ayuda a tu equipo a centrarse en lo importante. Si quieres editar flujos de trabajo o fechas, selecciona el marcador de posición y toca el icono de lápiz. true %7B%22title%22%3A%22Roadmap%20Planner%22%2C%22timeline%22%3A%7B%22startDate%22%3A%222021-12-16%2000%3A00%3A00%22%2C%22endDate%22%3A%222022-07-16%2000%3A00%3A00%22%2C%22displayOption%22%3A%22MONTH%22%7D%2C%22lanes%22%3A%5B%7B%22title%22%3A%22Dashboard%22%2C%22color%22%3A%7B%22lane%22%3A%22%23f6c342%22%2C%22bar%22%3A%22%23fadb8e%22%2C%22text%22%3A%22%23594300%22%2C%22count%22%3A1%7D%2C%22bars%22%3A%5B%7B%22title%22%3A%22Feature%201%22%2C%22description%22%3A%22This%20is%20the%20first%20bar.%22%2C%22startDate%22%3A%222021-12-10%2019%3A43%3A21%22%2C%22duration%22%3A2%2C%22rowIndex%22%3A0%2C%22id%22%3A%22eeb2d902-e723-4ff0-a10d-43a5793089a4%22%2C%22pageLink%22%3A%7B%7D%7D%2C%7B%22title%22%3A%22Feature%202%22%2C%22description%22%3A%22This%20is%20the%20second%20bar.%22%2C%22startDate%22%3A%222021-12-20%2000%3A42%3A46%22%2C%22duration%22%3A2.594059405940594%2C%22rowIndex%22%3A3%2C%22id%22%3A%220e8f437c-39f1-4d70-b85b-3ca89fd57a00%22%2C%22pageLink%22%3A%7B%7D%7D%2C%7B%22rowIndex%22%3A1%2C%22startDate%22%3A%222022-03-13%2007%3A39%3A12%22%2C%22id%22%3A%2290251c8c-3b74-4d2b-b850-684ffd40514b%22%2C%22title%22%3A%22Feature%203%22%2C%22description%22%3A%22%22%2C%22duration%22%3A2.00990099009901%2C%22pageLink%22%3A%7B%7D%7D%2C%7B%22rowIndex%22%3A2%2C%22startDate%22%3A%222022-04-24%2011%3A10%3A05%22%2C%22id%22%3A%22d0529fe8-6c8c-45e8-8078-d75c2f063dd9%22%2C%22title%22%3A%22Feature%204%22%2C%22description%22%3A%22%22%2C%22duration%22%3A2.01980198019802%2C%22pageLink%22%3A%7B%7D%7D%5D%7D%2C%7B%22title%22%3A%22Notification%22%2C%22color%22%3A%7B%22lane%22%3A%22%233b7fc4%22%2C%22bar%22%3A%22%236c9fd3%22%2C%22text%22%3A%22%23ffffff%22%2C%22count%22%3A1%7D%2C%22bars%22%3A%5B%7B%22title%22%3A%22iOS%20App%22%2C%22description%22%3A%22This%20is%20the%20third%20bar.%22%2C%22startDate%22%3A%222022-01-13%2014%3A01%3A11%22%2C%22duration%22%3A2.5%2C%22rowIndex%22%3A0%2C%22id%22%3A%22dd93afcd-2704-4253-adb8-809a336cc5ba%22%2C%22pageLink%22%3A%7B%7D%7D%2C%7B%22rowIndex%22%3A0%2C%22startDate%22%3A%222022-04-23%2013%3A46%3A55%22%2C%22id%22%3A%228dc8bc2d-b7cb-44a8-b526-7d1ede51f690%22%2C%22title%22%3A%22Android%22%2C%22description%22%3A%22%22%2C%22duration%22%3A2.4752475247524752%2C%22pageLink%22%3A%7B%7D%7D%5D%7D%5D%2C%22markers%22%3A%5B%7B%22title%22%3A%22Milestone%201%22%2C%22markerDate%22%3A%222022-04-28%2007%3A50%3A29%22%7D%2C%7B%22markerDate%22%3A%222022-08-25%2020%3A40%3A23%22%2C%22title%22%3A%22Go%2FNo%20go%22%7D%2C%7B%22markerDate%22%3A%222022-06-25%2008%3A33%3A16%22%2C%22title%22%3A%22Milestone%202%22%7D%5D%7D Roadmap%20Planner cfdf6478a845bded2fc6786da3b93b66 Escribe /trello para añadir una tarjeta o tablero a esta página, o /jira para incluir un proyecto, un gráfico o una incidencia de Jira. Requisitos Requisito Historia de usuario Importancia Incidencia de Jira Notas p. ej., \"Se debe adaptar a los dispositivos móviles\" p. ej., \"John es un PM que quiere comprobar el progreso de su equipo desde la estación de tren\" ALTA Red Interacción con el usuario y diseño Escribe /whiteboard para crear diagramas o imágenes relacionados con los requisitos Preguntas abiertas Pregunta Respuesta Fecha de respuesta p. ej., \"¿Qué podemos hacer para que los usuarios estén más enterados de esta función?\" p. ej., \"Anunciaremos la función con una entrada de blog y una presentación\" Escribe // para añadir una fecha Fuera del alcance Lista las funciones analizadas que estén fuera del alcance o a los que se pueda volver en una versión posterior. Materiales de referencia Escribe /database para crear una base de datos con investigaciones, reuniones o cualquier otro documento clave relevante para este proyecto')]"
      ]
     },
     "execution_count": 10,
     "metadata": {},
     "output_type": "execute_result"
    }
   ],
   "source": [
    "documents"
   ]
  },
  {
   "cell_type": "markdown",
   "metadata": {},
   "source": [
    "[Document(metadata={'title': 'Plantilla - Requisitos del producto', 'id': '98463', 'source': 'https://lgcorzo.atlassian.net/wiki/spaces/DDS/pages/98463/Plantilla+-+Requisitos+del+producto', 'when': '2025-07-09T17:13:25.568Z'}, page_content='Versión objetivo Escribe // para añadir una fecha de publicación prevista Epic Escribe /Jira para añadir epics e incidencias de Jira Estado del documento BORRADOR Propietario del documento @menciona al propietario Diseñador @diseñador Líder tecnológico @responsable Redactores técnicos @redactores Control de calidad Objetivo Proporciona el contexto de este proyecto y explica cómo encaja en las metas estratégicas de tu organización. Métricas de éxito Enumera las metas del proyecto y las métricas que usarás para evaluar el éxito. Meta Métrica Metrica importante lo que diga luis Supuestos Haz una lista de los supuestos que tengas sobre los usuarios, las restricciones técnicas o las metas empresariales. Hitos Escribe /planner para crear una hoja de ruta visual y ayuda a tu equipo a centrarse en lo importante. Si quieres editar flujos de trabajo o fechas, selecciona el marcador de posición y toca el icono de lápiz. true %7B%22title%22%3A%22Roadmap%20Planner%22%2C%22timeline%22%3A%7B%22startDate%22%3A%222021-12-16%2000%3A00%3A00%22%2C%22endDate%22%3A%222022-07-16%2000%3A00%3A00%22%2C%22displayOption%22%3A%22MONTH%22%7D%2C%22lanes%22%3A%5B%7B%22title%22%3A%22Dashboard%22%2C%22color%22%3A%7B%22lane%22%3A%22%23f6c342%22%2C%22bar%22%3A%22%23fadb8e%22%2C%22text%22%3A%22%23594300%22%2C%22count%22%3A1%7D%2C%22bars%22%3A%5B%7B%22title%22%3A%22Feature%201%22%2C%22description%22%3A%22This%20is%20the%20first%20bar.%22%2C%22startDate%22%3A%222021-12-10%2019%3A43%3A21%22%2C%22duration%22%3A2%2C%22rowIndex%22%3A0%2C%22id%22%3A%22eeb2d902-e723-4ff0-a10d-43a5793089a4%22%2C%22pageLink%22%3A%7B%7D%7D%2C%7B%22title%22%3A%22Feature%202%22%2C%22description%22%3A%22This%20is%20the%20second%20bar.%22%2C%22startDate%22%3A%222021-12-20%2000%3A42%3A46%22%2C%22duration%22%3A2.594059405940594%2C%22rowIndex%22%3A3%2C%22id%22%3A%220e8f437c-39f1-4d70-b85b-3ca89fd57a00%22%2C%22pageLink%22%3A%7B%7D%7D%2C%7B%22rowIndex%22%3A1%2C%22startDate%22%3A%222022-03-13%2007%3A39%3A12%22%2C%22id%22%3A%2290251c8c-3b74-4d2b-b850-684ffd40514b%22%2C%22title%22%3A%22Feature%203%22%2C%22description%22%3A%22%22%2C%22duration%22%3A2.00990099009901%2C%22pageLink%22%3A%7B%7D%7D%2C%7B%22rowIndex%22%3A2%2C%22startDate%22%3A%222022-04-24%2011%3A10%3A05%22%2C%22id%22%3A%22d0529fe8-6c8c-45e8-8078-d75c2f063dd9%22%2C%22title%22%3A%22Feature%204%22%2C%22description%22%3A%22%22%2C%22duration%22%3A2.01980198019802%2C%22pageLink%22%3A%7B%7D%7D%5D%7D%2C%7B%22title%22%3A%22Notification%22%2C%22color%22%3A%7B%22lane%22%3A%22%233b7fc4%22%2C%22bar%22%3A%22%236c9fd3%22%2C%22text%22%3A%22%23ffffff%22%2C%22count%22%3A1%7D%2C%22bars%22%3A%5B%7B%22title%22%3A%22iOS%20App%22%2C%22description%22%3A%22This%20is%20the%20third%20bar.%22%2C%22startDate%22%3A%222022-01-13%2014%3A01%3A11%22%2C%22duration%22%3A2.5%2C%22rowIndex%22%3A0%2C%22id%22%3A%22dd93afcd-2704-4253-adb8-809a336cc5ba%22%2C%22pageLink%22%3A%7B%7D%7D%2C%7B%22rowIndex%22%3A0%2C%22startDate%22%3A%222022-04-23%2013%3A46%3A55%22%2C%22id%22%3A%228dc8bc2d-b7cb-44a8-b526-7d1ede51f690%22%2C%22title%22%3A%22Android%22%2C%22description%22%3A%22%22%2C%22duration%22%3A2.4752475247524752%2C%22pageLink%22%3A%7B%7D%7D%5D%7D%5D%2C%22markers%22%3A%5B%7B%22title%22%3A%22Milestone%201%22%2C%22markerDate%22%3A%222022-04-28%2007%3A50%3A29%22%7D%2C%7B%22markerDate%22%3A%222022-08-25%2020%3A40%3A23%22%2C%22title%22%3A%22Go%2FNo%20go%22%7D%2C%7B%22markerDate%22%3A%222022-06-25%2008%3A33%3A16%22%2C%22title%22%3A%22Milestone%202%22%7D%5D%7D Roadmap%20Planner cfdf6478a845bded2fc6786da3b93b66 Escribe /trello para añadir una tarjeta o tablero a esta página, o /jira para incluir un proyecto, un gráfico o una incidencia de Jira. Requisitos Requisito Historia de usuario Importancia Incidencia de Jira Notas p. ej., \"Se debe adaptar a los dispositivos móviles\" p. ej., \"John es un PM que quiere comprobar el progreso de su equipo desde la estación de tren\" ALTA Red Interacción con el usuario y diseño Escribe /whiteboard para crear diagramas o imágenes relacionados con los requisitos Preguntas abiertas Pregunta Respuesta Fecha de respuesta p. ej., \"¿Qué podemos hacer para que los usuarios estén más enterados de esta función?\" p. ej., \"Anunciaremos la función con una entrada de blog y una presentación\" Escribe // para añadir una fecha Fuera del alcance Lista las funciones analizadas que estén fuera del alcance o a los que se pueda volver en una versión posterior. Materiales de referencia Escribe /database para crear una base de datos con investigaciones, reuniones o cualquier otro documento clave relevante para este proyecto')]"
   ]
  }
 ],
 "metadata": {
  "kernelspec": {
   "display_name": "fastapi_autogen_env",
   "language": "python",
   "name": "python3"
  },
  "language_info": {
   "codemirror_mode": {
    "name": "ipython",
    "version": 3
   },
   "file_extension": ".py",
   "mimetype": "text/x-python",
   "name": "python",
   "nbconvert_exporter": "python",
   "pygments_lexer": "ipython3",
   "version": "3.11.12"
  }
 },
 "nbformat": 4,
 "nbformat_minor": 4
}
