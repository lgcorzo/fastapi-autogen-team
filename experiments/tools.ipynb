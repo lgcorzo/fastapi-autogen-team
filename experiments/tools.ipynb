{
 "cells": [
  {
   "cell_type": "markdown",
   "id": "fc0addf5",
   "metadata": {},
   "source": [
    "# Tool execution notebook\n",
    " this notebook  is use to make the experiments before  coed in the CI  process"
   ]
  },
  {
   "cell_type": "code",
   "execution_count": null,
   "id": "297aef10",
   "metadata": {},
   "outputs": [],
   "source": [
    "\n",
    "# export R2R_API_KEY=...\n",
    "import os\n",
    "from dotenv import load_dotenv\n",
    "from r2r import R2RClient\n",
    "\n",
    "\n",
    "load_dotenv()\n",
    "# https://r2r-docs.sciphi.ai/documentation/search-and-rag\n",
    "def search(query: str):\n",
    "  \n",
    "  user = os.getenv(\"R2R_USER\")  \n",
    "  pwd = os.getenv(\"R2R_PWD\")  \n",
    "  base_url = os.getenv(\"R2R_URL\", \"http://localhost:7272\")\n",
    "  client = R2RClient(base_url=base_url) \n",
    "  client.users.login(user, pwd)\n",
    "\n",
    "  response = client.retrieval.rag(\n",
    "    query=query\n",
    "  )\n",
    "  return response\n"
   ]
  },
  {
   "cell_type": "code",
   "execution_count": null,
   "id": "c2039685",
   "metadata": {},
   "outputs": [],
   "source": [
    "## test the calls to search the documents\n",
    "response = search(\"explain  differences between leadin and leadout in expert\")\n"
   ]
  },
  {
   "cell_type": "code",
   "execution_count": null,
   "id": "474d940b",
   "metadata": {},
   "outputs": [],
   "source": [
    "print(response.results.generated_answer)"
   ]
  }
 ],
 "metadata": {
  "kernelspec": {
   "display_name": "Python 3",
   "language": "python",
   "name": "python3"
  },
  "language_info": {
   "codemirror_mode": {
    "name": "ipython",
    "version": 3
   },
   "file_extension": ".py",
   "mimetype": "text/x-python",
   "name": "python",
   "nbconvert_exporter": "python",
   "pygments_lexer": "ipython3",
   "version": "3.11.11"
  }
 },
 "nbformat": 4,
 "nbformat_minor": 5
}
