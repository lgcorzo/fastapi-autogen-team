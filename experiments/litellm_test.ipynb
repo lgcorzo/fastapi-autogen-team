{
 "cells": [
  {
   "cell_type": "code",
   "execution_count": 15,
   "id": "88cc4f00",
   "metadata": {},
   "outputs": [
    {
     "name": "stdout",
     "output_type": "stream",
     "text": [
      "ModelResponse(id='None', created=1746113753, model='internal-gpt', object='chat.completion', system_fingerprint=None, choices=[Choices(finish_reason='stop', index=0, message=Message(content=\"Hello! I'm just a program, but I'm here and ready to assist you. How can I help you today?\", role='assistant', tool_calls=None, function_call=None, provider_specific_fields={'refusal': None}))], usage=Usage(completion_tokens=0, prompt_tokens=0, total_tokens=0, completion_tokens_details=None, prompt_tokens_details=None, usage_including_cached_inference={'total_cost': 0}, usage_excluding_cached_inference={'total_cost': 0}), service_tier=None)\n"
     ]
    }
   ],
   "source": [
    "import os \n",
    "import litellm\n",
    "from litellm import completion\n",
    "\n",
    "os.environ[\"OPENAI_API_KEY\"] = \"sk-12345\"\n",
    "\n",
    "litellm.api_base = \"http://localhost:4000/v1\"\n",
    "\n",
    "\n",
    "messages = [{ \"content\": \"Hello, how are you?\",\"role\": \"user\"}]\n",
    "\n",
    "# openai call\n",
    "response = completion(\"openai/internal-gpt4_v0.1\", messages)\n",
    "\n",
    "print(response)"
   ]
  },
  {
   "cell_type": "code",
   "execution_count": 20,
   "id": "baa797d4",
   "metadata": {},
   "outputs": [
    {
     "data": {
      "text/plain": [
       "ChatCompletion(id='None', choices=[Choice(finish_reason='stop', index=0, logprobs=None, message=ChatCompletionMessage(content='Hello! How can I assist you today? If you have any questions or tasks, feel free to share!', refusal=None, role='assistant', annotations=None, audio=None, function_call=None, tool_calls=None))], created=1746113753, model='internal-gpt', object='chat.completion', service_tier=None, system_fingerprint=None, usage=CompletionUsage(completion_tokens=0, prompt_tokens=0, total_tokens=0, completion_tokens_details=None, prompt_tokens_details=None, usage_including_cached_inference={'total_cost': 0}, usage_excluding_cached_inference={'total_cost': 0}))"
      ]
     },
     "execution_count": 20,
     "metadata": {},
     "output_type": "execute_result"
    }
   ],
   "source": [
    "from openai import OpenAI\n",
    "client = OpenAI(\n",
    "    api_key=\"sk-12345\",\n",
    "    base_url=\"http://localhost:4000/v1\")\n",
    "\n",
    "response = client.chat.completions.create(model=\"internal-gpt4_v0.1\", messages=[{\"role\": \"user\", \"content\": \"Hello world\"}])\n",
    "\n",
    "response"
   ]
  }
 ],
 "metadata": {
  "kernelspec": {
   "display_name": "Python 3",
   "language": "python",
   "name": "python3"
  },
  "language_info": {
   "codemirror_mode": {
    "name": "ipython",
    "version": 3
   },
   "file_extension": ".py",
   "mimetype": "text/x-python",
   "name": "python",
   "nbconvert_exporter": "python",
   "pygments_lexer": "ipython3",
   "version": "3.11.11"
  }
 },
 "nbformat": 4,
 "nbformat_minor": 5
}
